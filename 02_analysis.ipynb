{
 "cells": [
  {
   "cell_type": "markdown",
   "metadata": {},
   "source": [
    "# Maryland bridges analysis"
   ]
  },
  {
   "cell_type": "markdown",
   "metadata": {},
   "source": [
    "By [Christine Zhang](mailto:czhang@baltsun.com)"
   ]
  },
  {
   "cell_type": "markdown",
   "metadata": {},
   "source": [
    "The Baltimore Sun conducted an analysis of bridge conditions in Maryland, with a focus on bridges in the Baltimore area. The Sun looked at which bridges were listed in \"poor\" condition by the Federal Highway Administration (FHA) — and in particular, which have been \"poor\" for several years.\n",
    "\n",
    "The results were reported in a October 8, 2018 Baltimore Sun story titled [\"How safe are Maryland's bridges?\"](http://www.baltimoresun.com/news/maryland/bs-md-bridge-collapse-maryland-20180815-story.html)\n",
    "\n",
    "Here are the key findings of the data analysis, which is documented below and based on data from the FHA’s 2017 and 2007 [National Bridge Inventory](https://www.fhwa.dot.gov/bridge/nbi.cfm):\n",
    "\n",
    "- The median age of Maryland's bridges is 46 years.\n",
    "- 288 (5.4 percent) of the bridges in Maryland were classified as being in both \"poor\" and \"structurally deficient\" condition.\n",
    "- 66 (2.6 percent) of the bridges owned or maintained by the State Highway Administration were listed as being in \"poor\" condition.\n",
    "- Baltimore city owns all of the untolled bridges within its boundaries.\n",
    "- 33 (13 percent) of city-owned bridges in Baltimore were listed in \"poor\" condition.\n",
    "- 20 city-owned bridges in Baltimore have been in \"poor\" condition for 10 years or more.\n",
    "- There were 36 bridges listed in “poor” condition in Baltimore County.\n",
    "- 11 bridges in Baltimore County have been in “poor” condition for 10 years or more.\n",
    "- 21 bridges in Harford County were listed in “poor” condition.\n",
    "- 11 bridges in Harford County have been in “poor” condition for 10 years or more.\n",
    "- The State Highway Administration maintains roughly half of Maryland’s more than 5,000 bridges.\n",
    "- The other half of the state’s bridges are owned by up to 15 different types of agencies, including county highway agencies, city or municipal highway agencies, state toll authorities, private owners and others.\n",
    "- There is a bridge owned by NASA — a federal access road in Prince George’s County."
   ]
  },
  {
   "cell_type": "markdown",
   "metadata": {},
   "source": [
    "## How we did it"
   ]
  },
  {
   "cell_type": "markdown",
   "metadata": {},
   "source": [
    "### Run `01_processing.ipynb`"
   ]
  },
  {
   "cell_type": "markdown",
   "metadata": {},
   "source": [
    "The raw data files from FHA were pre-processed prior to the analysis. See the processing notebook [`01_processing.ipynb`](https://github.com/baltimore-sun-data/bridge-data/blob/master/01_processing.ipynb) for more details."
   ]
  },
  {
   "cell_type": "markdown",
   "metadata": {},
   "source": [
    "### Import R data analysis libraries"
   ]
  },
  {
   "cell_type": "code",
   "execution_count": 1,
   "metadata": {},
   "outputs": [],
   "source": [
    "suppressMessages(library('tidyverse'))\n",
    "suppressMessages(library('feather'))"
   ]
  },
  {
   "cell_type": "markdown",
   "metadata": {},
   "source": [
    "Read in the 2017 data for analysis."
   ]
  },
  {
   "cell_type": "code",
   "execution_count": 2,
   "metadata": {},
   "outputs": [],
   "source": [
    "data.2017.clean <- read_feather('output/data_2017_clean.feather')"
   ]
  },
  {
   "cell_type": "code",
   "execution_count": 3,
   "metadata": {},
   "outputs": [
    {
     "data": {
      "text/html": [
       "<ol class=list-inline>\n",
       "\t<li>'STRUCTURE_NUMBER_008'</li>\n",
       "\t<li>'county'</li>\n",
       "\t<li>'combinedfips'</li>\n",
       "\t<li>'location'</li>\n",
       "\t<li>'intersects'</li>\n",
       "\t<li>'carries'</li>\n",
       "\t<li>'route_type'</li>\n",
       "\t<li>'service_level'</li>\n",
       "\t<li>'responsibility'</li>\n",
       "\t<li>'owner'</li>\n",
       "\t<li>'op_status'</li>\n",
       "\t<li>'struct_deficient'</li>\n",
       "\t<li>'struct_deficient_old'</li>\n",
       "\t<li>'bridge_condition'</li>\n",
       "\t<li>'SUFFICIENCY_RATING'</li>\n",
       "\t<li>'lowest_condition_rating'</li>\n",
       "\t<li>'total_poor_conditions'</li>\n",
       "\t<li>'deck_condition'</li>\n",
       "\t<li>'superstruct_condition'</li>\n",
       "\t<li>'substruct_condition'</li>\n",
       "\t<li>'culvert_condition'</li>\n",
       "\t<li>'deck_condition_poor'</li>\n",
       "\t<li>'superstruct_condition_poor'</li>\n",
       "\t<li>'substruct_condition_poor'</li>\n",
       "\t<li>'culvert_condition_poor'</li>\n",
       "\t<li>'avg_daily_traffic'</li>\n",
       "\t<li>'avg_daily_traffic_yr'</li>\n",
       "\t<li>'avg_daily_truck_traffic_perc'</li>\n",
       "\t<li>'work_proposed'</li>\n",
       "\t<li>'work_responsibility'</li>\n",
       "\t<li>'inspection_mo'</li>\n",
       "\t<li>'inspection_yr'</li>\n",
       "\t<li>'yr_reconstructed'</li>\n",
       "\t<li>'yr_built'</li>\n",
       "\t<li>'inspection_freq'</li>\n",
       "\t<li>'bridge_improve_cost'</li>\n",
       "\t<li>'roadway_improve_cost'</li>\n",
       "\t<li>'total_improve_cost'</li>\n",
       "\t<li>'yr_cost_estimate'</li>\n",
       "\t<li>'avg_daily_traffic_future'</li>\n",
       "\t<li>'avg_daily_traffic_future_yr'</li>\n",
       "\t<li>'scour_critical'</li>\n",
       "\t<li>'national_register'</li>\n",
       "\t<li>'LAT_016'</li>\n",
       "\t<li>'LONG_017'</li>\n",
       "\t<li>'SCOUR_CRITICAL_113'</li>\n",
       "\t<li>'COUNTY_CODE_003'</li>\n",
       "\t<li>'structural_eval'</li>\n",
       "\t<li>'waterway_eval'</li>\n",
       "</ol>\n"
      ],
      "text/latex": [
       "\\begin{enumerate*}\n",
       "\\item 'STRUCTURE\\_NUMBER\\_008'\n",
       "\\item 'county'\n",
       "\\item 'combinedfips'\n",
       "\\item 'location'\n",
       "\\item 'intersects'\n",
       "\\item 'carries'\n",
       "\\item 'route\\_type'\n",
       "\\item 'service\\_level'\n",
       "\\item 'responsibility'\n",
       "\\item 'owner'\n",
       "\\item 'op\\_status'\n",
       "\\item 'struct\\_deficient'\n",
       "\\item 'struct\\_deficient\\_old'\n",
       "\\item 'bridge\\_condition'\n",
       "\\item 'SUFFICIENCY\\_RATING'\n",
       "\\item 'lowest\\_condition\\_rating'\n",
       "\\item 'total\\_poor\\_conditions'\n",
       "\\item 'deck\\_condition'\n",
       "\\item 'superstruct\\_condition'\n",
       "\\item 'substruct\\_condition'\n",
       "\\item 'culvert\\_condition'\n",
       "\\item 'deck\\_condition\\_poor'\n",
       "\\item 'superstruct\\_condition\\_poor'\n",
       "\\item 'substruct\\_condition\\_poor'\n",
       "\\item 'culvert\\_condition\\_poor'\n",
       "\\item 'avg\\_daily\\_traffic'\n",
       "\\item 'avg\\_daily\\_traffic\\_yr'\n",
       "\\item 'avg\\_daily\\_truck\\_traffic\\_perc'\n",
       "\\item 'work\\_proposed'\n",
       "\\item 'work\\_responsibility'\n",
       "\\item 'inspection\\_mo'\n",
       "\\item 'inspection\\_yr'\n",
       "\\item 'yr\\_reconstructed'\n",
       "\\item 'yr\\_built'\n",
       "\\item 'inspection\\_freq'\n",
       "\\item 'bridge\\_improve\\_cost'\n",
       "\\item 'roadway\\_improve\\_cost'\n",
       "\\item 'total\\_improve\\_cost'\n",
       "\\item 'yr\\_cost\\_estimate'\n",
       "\\item 'avg\\_daily\\_traffic\\_future'\n",
       "\\item 'avg\\_daily\\_traffic\\_future\\_yr'\n",
       "\\item 'scour\\_critical'\n",
       "\\item 'national\\_register'\n",
       "\\item 'LAT\\_016'\n",
       "\\item 'LONG\\_017'\n",
       "\\item 'SCOUR\\_CRITICAL\\_113'\n",
       "\\item 'COUNTY\\_CODE\\_003'\n",
       "\\item 'structural\\_eval'\n",
       "\\item 'waterway\\_eval'\n",
       "\\end{enumerate*}\n"
      ],
      "text/markdown": [
       "1. 'STRUCTURE_NUMBER_008'\n",
       "2. 'county'\n",
       "3. 'combinedfips'\n",
       "4. 'location'\n",
       "5. 'intersects'\n",
       "6. 'carries'\n",
       "7. 'route_type'\n",
       "8. 'service_level'\n",
       "9. 'responsibility'\n",
       "10. 'owner'\n",
       "11. 'op_status'\n",
       "12. 'struct_deficient'\n",
       "13. 'struct_deficient_old'\n",
       "14. 'bridge_condition'\n",
       "15. 'SUFFICIENCY_RATING'\n",
       "16. 'lowest_condition_rating'\n",
       "17. 'total_poor_conditions'\n",
       "18. 'deck_condition'\n",
       "19. 'superstruct_condition'\n",
       "20. 'substruct_condition'\n",
       "21. 'culvert_condition'\n",
       "22. 'deck_condition_poor'\n",
       "23. 'superstruct_condition_poor'\n",
       "24. 'substruct_condition_poor'\n",
       "25. 'culvert_condition_poor'\n",
       "26. 'avg_daily_traffic'\n",
       "27. 'avg_daily_traffic_yr'\n",
       "28. 'avg_daily_truck_traffic_perc'\n",
       "29. 'work_proposed'\n",
       "30. 'work_responsibility'\n",
       "31. 'inspection_mo'\n",
       "32. 'inspection_yr'\n",
       "33. 'yr_reconstructed'\n",
       "34. 'yr_built'\n",
       "35. 'inspection_freq'\n",
       "36. 'bridge_improve_cost'\n",
       "37. 'roadway_improve_cost'\n",
       "38. 'total_improve_cost'\n",
       "39. 'yr_cost_estimate'\n",
       "40. 'avg_daily_traffic_future'\n",
       "41. 'avg_daily_traffic_future_yr'\n",
       "42. 'scour_critical'\n",
       "43. 'national_register'\n",
       "44. 'LAT_016'\n",
       "45. 'LONG_017'\n",
       "46. 'SCOUR_CRITICAL_113'\n",
       "47. 'COUNTY_CODE_003'\n",
       "48. 'structural_eval'\n",
       "49. 'waterway_eval'\n",
       "\n",
       "\n"
      ],
      "text/plain": [
       " [1] \"STRUCTURE_NUMBER_008\"         \"county\"                      \n",
       " [3] \"combinedfips\"                 \"location\"                    \n",
       " [5] \"intersects\"                   \"carries\"                     \n",
       " [7] \"route_type\"                   \"service_level\"               \n",
       " [9] \"responsibility\"               \"owner\"                       \n",
       "[11] \"op_status\"                    \"struct_deficient\"            \n",
       "[13] \"struct_deficient_old\"         \"bridge_condition\"            \n",
       "[15] \"SUFFICIENCY_RATING\"           \"lowest_condition_rating\"     \n",
       "[17] \"total_poor_conditions\"        \"deck_condition\"              \n",
       "[19] \"superstruct_condition\"        \"substruct_condition\"         \n",
       "[21] \"culvert_condition\"            \"deck_condition_poor\"         \n",
       "[23] \"superstruct_condition_poor\"   \"substruct_condition_poor\"    \n",
       "[25] \"culvert_condition_poor\"       \"avg_daily_traffic\"           \n",
       "[27] \"avg_daily_traffic_yr\"         \"avg_daily_truck_traffic_perc\"\n",
       "[29] \"work_proposed\"                \"work_responsibility\"         \n",
       "[31] \"inspection_mo\"                \"inspection_yr\"               \n",
       "[33] \"yr_reconstructed\"             \"yr_built\"                    \n",
       "[35] \"inspection_freq\"              \"bridge_improve_cost\"         \n",
       "[37] \"roadway_improve_cost\"         \"total_improve_cost\"          \n",
       "[39] \"yr_cost_estimate\"             \"avg_daily_traffic_future\"    \n",
       "[41] \"avg_daily_traffic_future_yr\"  \"scour_critical\"              \n",
       "[43] \"national_register\"            \"LAT_016\"                     \n",
       "[45] \"LONG_017\"                     \"SCOUR_CRITICAL_113\"          \n",
       "[47] \"COUNTY_CODE_003\"              \"structural_eval\"             \n",
       "[49] \"waterway_eval\"               "
      ]
     },
     "metadata": {},
     "output_type": "display_data"
    }
   ],
   "source": [
    "names(data.2017.clean)"
   ]
  },
  {
   "cell_type": "markdown",
   "metadata": {},
   "source": [
    "For more information about the meanings of these column names, see the processing notebook [`01_processing.ipynb`](https://github.com/baltimore-sun-data/bridge-data/blob/master/01_processing.ipynb)."
   ]
  },
  {
   "cell_type": "markdown",
   "metadata": {},
   "source": [
    "### Finding: The median age of Maryland's bridges is 46 years."
   ]
  },
  {
   "cell_type": "markdown",
   "metadata": {},
   "source": [
    "Calculate the age of each bridge by subtracting the current year, 2018, from the year the bridge was built."
   ]
  },
  {
   "cell_type": "code",
   "execution_count": 4,
   "metadata": {},
   "outputs": [],
   "source": [
    "data.2017.clean$age <- 2018 - data.2017.clean$yr_built"
   ]
  },
  {
   "cell_type": "code",
   "execution_count": 5,
   "metadata": {
    "scrolled": true
   },
   "outputs": [
    {
     "data": {
      "text/plain": [
       "   Min. 1st Qu.  Median    Mean 3rd Qu.    Max. \n",
       "   1.00   28.00   46.00   48.27   61.00  209.00 "
      ]
     },
     "metadata": {},
     "output_type": "display_data"
    }
   ],
   "source": [
    "summary(data.2017.clean$age)"
   ]
  },
  {
   "cell_type": "code",
   "execution_count": 6,
   "metadata": {},
   "outputs": [
    {
     "name": "stdout",
     "output_type": "stream",
     "text": [
      "[1] \"The median age of Maryland's bridges is 46 years.\"\n"
     ]
    }
   ],
   "source": [
    "print(paste(\"The median age of Maryland's bridges is\", \n",
    "            summary(data.2017.clean$age)['Median'],\n",
    "            \"years.\"))"
   ]
  },
  {
   "cell_type": "markdown",
   "metadata": {},
   "source": [
    "### Finding: 288 (5.4 percent) of the bridges in Maryland were classified as being in both \"poor\" and \"structurally deficient\" condition."
   ]
  },
  {
   "cell_type": "markdown",
   "metadata": {},
   "source": [
    "Group the data by `bridge_condition` and calculate the total number and percentage of bridges in each category."
   ]
  },
  {
   "cell_type": "code",
   "execution_count": 7,
   "metadata": {},
   "outputs": [
    {
     "data": {
      "text/html": [
       "<table>\n",
       "<thead><tr><th scope=col>bridge_condition</th><th scope=col>n</th><th scope=col>perc</th></tr></thead>\n",
       "<tbody>\n",
       "\t<tr><td>Fair     </td><td>3275     </td><td>61.387067</td></tr>\n",
       "\t<tr><td>Good     </td><td>1772     </td><td>33.214620</td></tr>\n",
       "\t<tr><td>Poor     </td><td> 288     </td><td> 5.398313</td></tr>\n",
       "</tbody>\n",
       "</table>\n"
      ],
      "text/latex": [
       "\\begin{tabular}{r|lll}\n",
       " bridge\\_condition & n & perc\\\\\n",
       "\\hline\n",
       "\t Fair      & 3275      & 61.387067\\\\\n",
       "\t Good      & 1772      & 33.214620\\\\\n",
       "\t Poor      &  288      &  5.398313\\\\\n",
       "\\end{tabular}\n"
      ],
      "text/markdown": [
       "\n",
       "bridge_condition | n | perc | \n",
       "|---|---|---|\n",
       "| Fair      | 3275      | 61.387067 | \n",
       "| Good      | 1772      | 33.214620 | \n",
       "| Poor      |  288      |  5.398313 | \n",
       "\n",
       "\n"
      ],
      "text/plain": [
       "  bridge_condition n    perc     \n",
       "1 Fair             3275 61.387067\n",
       "2 Good             1772 33.214620\n",
       "3 Poor              288  5.398313"
      ]
     },
     "metadata": {},
     "output_type": "display_data"
    }
   ],
   "source": [
    "md.conditions <- data.2017.clean %>% group_by(bridge_condition) %>% \n",
    "                                     summarise(n = n()) %>% \n",
    "                                     mutate(perc = n/sum(n) * 100)\n",
    "\n",
    "md.conditions"
   ]
  },
  {
   "cell_type": "code",
   "execution_count": 8,
   "metadata": {},
   "outputs": [
    {
     "name": "stdout",
     "output_type": "stream",
     "text": [
      "[1] \"There were 288 bridges listed in 'poor' condition in Maryland. That's 5.4 percent of all bridges in Maryland.\"\n"
     ]
    }
   ],
   "source": [
    "print(paste(\"There were\",\n",
    "            md.conditions[md.conditions$bridge_condition == 'Poor',]$n, \n",
    "            \"bridges listed in 'poor' condition in Maryland. That's\", \n",
    "            round(md.conditions[md.conditions$bridge_condition == 'Poor',]$perc, 1), \n",
    "            \"percent of all bridges in Maryland.\"))"
   ]
  },
  {
   "cell_type": "markdown",
   "metadata": {},
   "source": [
    "Per FHA, the formula for the \"structurally deficient\" classification is equivalent to the formula for the \"poor\" classification https://www.fhwa.dot.gov/bridge/britab.cfm. We can check this, just in case:"
   ]
  },
  {
   "cell_type": "code",
   "execution_count": 9,
   "metadata": {
    "scrolled": false
   },
   "outputs": [],
   "source": [
    "md.struct_def <- data.2017.clean %>% group_by(struct_deficient) %>% \n",
    "                                     summarise(n = n()) %>% \n",
    "                                     mutate(perc = n/sum(n) * 100)"
   ]
  },
  {
   "cell_type": "code",
   "execution_count": 10,
   "metadata": {},
   "outputs": [
    {
     "name": "stdout",
     "output_type": "stream",
     "text": [
      "[1] \"There were 288 bridges listed in structurally deficient condition in Maryland under the new definition of 'structurally deficient.' That's 5.4 percent of all bridges in Maryland.\"\n"
     ]
    }
   ],
   "source": [
    "print(paste(\"There were\",\n",
    "            md.struct_def[md.struct_def$struct_deficient == 1,]$n, \n",
    "            \"bridges listed in structurally deficient condition in Maryland under the new definition of 'structurally deficient.' That's\", \n",
    "            round(md.struct_def[md.struct_def$struct_deficient == 1,]$perc, 1), \n",
    "            \"percent of all bridges in Maryland.\"))"
   ]
  },
  {
   "cell_type": "markdown",
   "metadata": {},
   "source": [
    "Note that using the previous definition of \"structurally deficient\" would result in 300 bridges being classified as \"structurally deficient.\" This is because there are two additional items that went into the previous \"structurally deficient\" rating: Item 67 (Structural Condition) and Item 71 (Waterway Adequacy). The FHA's \"Deficient Bridges by Highway System 2017\" page uses the previous definition and comes up with 300 \"deficient\" bridges for Maryland: https://www.fhwa.dot.gov/bridge/nbi/no10/defbr17.cfm (archived link [here](https://web.archive.org/web/20180701162630/https://www.fhwa.dot.gov/bridge/nbi/no10/defbr17.cfm))."
   ]
  },
  {
   "cell_type": "code",
   "execution_count": 11,
   "metadata": {},
   "outputs": [],
   "source": [
    "md.struct_def_old <- data.2017.clean %>% group_by(struct_deficient_old) %>% \n",
    "                                     summarise(n = n()) %>% \n",
    "                                     mutate(perc = n/sum(n) * 100)"
   ]
  },
  {
   "cell_type": "code",
   "execution_count": 12,
   "metadata": {},
   "outputs": [
    {
     "name": "stdout",
     "output_type": "stream",
     "text": [
      "[1] \"There were 300 bridges in structurally deficient condition in Maryland under the old definition of 'structurally deficient.' That's 5.6 percent of all bridges in Maryland.\"\n"
     ]
    }
   ],
   "source": [
    "print(paste(\"There were\",\n",
    "            md.struct_def_old[md.struct_def_old$struct_deficient_old == 1,]$n, \n",
    "            \"bridges in structurally deficient condition in Maryland under the old definition of 'structurally deficient.' That's\", \n",
    "            round(md.struct_def_old[md.struct_def_old$struct_deficient_old == 1,]$perc, 1), \n",
    "            \"percent of all bridges in Maryland.\"))"
   ]
  },
  {
   "cell_type": "markdown",
   "metadata": {},
   "source": [
    "In the story, we use the updated definition — 288 (5.4 percent) of bridges.\n",
    "\n",
    "For more details on how the classification is calculated, see the processing notebook [`01_processing.ipynb`](https://github.com/baltimore-sun-data/bridge-data/blob/master/01_processing.ipynb)."
   ]
  },
  {
   "cell_type": "markdown",
   "metadata": {},
   "source": [
    "### Finding: Nationally, 7.7 percent of bridges were classified as being in \"Poor\" condition."
   ]
  },
  {
   "cell_type": "markdown",
   "metadata": {},
   "source": [
    "This number is calculated from the totals columns on the \"Bridge Condition by Highway System 2017\" page of the FHA website: https://www.fhwa.dot.gov/bridge/nbi/no10/condition17.cfm (archived link [here](https://web.archive.org/web/20180924212805/https://www.fhwa.dot.gov/bridge/nbi/no10/condition17.cfm)), which lists 47,619 bridges as being in \"poor\" condition out of a total of 615,002 bridges nationwide.\t"
   ]
  },
  {
   "cell_type": "code",
   "execution_count": 13,
   "metadata": {},
   "outputs": [
    {
     "name": "stdout",
     "output_type": "stream",
     "text": [
      "[1] \"7.7 percent of bridges nationwide were listed in 'poor' condition.\"\n"
     ]
    }
   ],
   "source": [
    "print(paste(round(47619/615002 * 100, 1), \"percent of bridges nationwide were listed in 'poor' condition.\"))"
   ]
  },
  {
   "cell_type": "markdown",
   "metadata": {},
   "source": [
    "### Finding: Baltimore City owns all of the untolled bridges within its boundaries."
   ]
  },
  {
   "cell_type": "markdown",
   "metadata": {},
   "source": [
    "Filter the data to Baltimore City bridges and display the owners."
   ]
  },
  {
   "cell_type": "code",
   "execution_count": 14,
   "metadata": {},
   "outputs": [
    {
     "data": {
      "text/plain": [
       ".\n",
       "city or municipal highway agency             state toll authority \n",
       "                             241                              136 "
      ]
     },
     "metadata": {},
     "output_type": "display_data"
    }
   ],
   "source": [
    "data.2017.clean %>% filter(county == 'Baltimore city') %>% select(owner) %>% table()"
   ]
  },
  {
   "cell_type": "markdown",
   "metadata": {},
   "source": [
    "The \"city or municipal highway agency\" (in Baltimore's case, the Baltimore City Department of Transportation) owns all of the untolled bridges inside Baltimore city (the tolled bridges are owned by the \"state toll authority\" which in Maryland's case is the Maryland Transportation Authority).\n",
    "\n",
    "We can contrast this with other counties. For example, the bridges of Baltimore County are owned by a variety of agencies."
   ]
  },
  {
   "cell_type": "code",
   "execution_count": 15,
   "metadata": {},
   "outputs": [
    {
     "data": {
      "text/plain": [
       ".\n",
       "city or municipal highway agency            county highway agency \n",
       "                               8                              326 \n",
       "            other state agencies    private (other than railroad) \n",
       "                               1                                3 \n",
       "            state highway agency             state toll authority \n",
       "                             381                               59 "
      ]
     },
     "metadata": {},
     "output_type": "display_data"
    }
   ],
   "source": [
    "data.2017.clean %>% filter(county == 'Baltimore County') %>% select(owner) %>% table()"
   ]
  },
  {
   "cell_type": "markdown",
   "metadata": {},
   "source": [
    "### Finding: 33 (13 percent) of city-owned bridges in Baltimore were listed in \"poor\" condition."
   ]
  },
  {
   "cell_type": "markdown",
   "metadata": {},
   "source": [
    "Filter the data to Baltimore City bridges owned by the city in poor condition, group by `bridge_condition` and calculate the total number and percentage of bridges in each category.\n",
    "\n",
    "Note that the Wicomico Street bridge (`STRUCTURE_NUMBER_008 = '200000BC8032010'`) was dismantled last year, nearly a decade after railroad conglomerate CSX had [promised](http://articles.baltimoresun.com/2007-10-12/news/0710120088_1_avenue-bridge-replace-bridge-csx) to tear it down. We include it in the story because it was still listed in the FHA's 2017 dataset and had spent at least a decade in disrepair before being dismantled. For more details on the current status of some bridges, see the map of peristently \"poor\" bridges in the [story](http://www.baltimoresun.com/news/maryland/bs-md-bridge-collapse-maryland-20180815-story.html)."
   ]
  },
  {
   "cell_type": "code",
   "execution_count": 16,
   "metadata": {},
   "outputs": [],
   "source": [
    "baltcity.conditions.2017 <- data.2017.clean %>% filter(county == 'Baltimore city' & \n",
    "                                                       owner == 'city or municipal highway agency') %>% \n",
    "                                            group_by(bridge_condition) %>% \n",
    "                                            summarise(n = n()) %>%\n",
    "                                            mutate(perc = n/sum(n) * 100)"
   ]
  },
  {
   "cell_type": "code",
   "execution_count": 17,
   "metadata": {},
   "outputs": [
    {
     "data": {
      "text/html": [
       "<table>\n",
       "<thead><tr><th scope=col>bridge_condition</th><th scope=col>n</th><th scope=col>perc</th></tr></thead>\n",
       "<tbody>\n",
       "\t<tr><td>Fair    </td><td>171     </td><td>70.95436</td></tr>\n",
       "\t<tr><td>Good    </td><td> 37     </td><td>15.35270</td></tr>\n",
       "\t<tr><td>Poor    </td><td> 33     </td><td>13.69295</td></tr>\n",
       "</tbody>\n",
       "</table>\n"
      ],
      "text/latex": [
       "\\begin{tabular}{r|lll}\n",
       " bridge\\_condition & n & perc\\\\\n",
       "\\hline\n",
       "\t Fair     & 171      & 70.95436\\\\\n",
       "\t Good     &  37      & 15.35270\\\\\n",
       "\t Poor     &  33      & 13.69295\\\\\n",
       "\\end{tabular}\n"
      ],
      "text/markdown": [
       "\n",
       "bridge_condition | n | perc | \n",
       "|---|---|---|\n",
       "| Fair     | 171      | 70.95436 | \n",
       "| Good     |  37      | 15.35270 | \n",
       "| Poor     |  33      | 13.69295 | \n",
       "\n",
       "\n"
      ],
      "text/plain": [
       "  bridge_condition n   perc    \n",
       "1 Fair             171 70.95436\n",
       "2 Good              37 15.35270\n",
       "3 Poor              33 13.69295"
      ]
     },
     "metadata": {},
     "output_type": "display_data"
    }
   ],
   "source": [
    "baltcity.conditions.2017"
   ]
  },
  {
   "cell_type": "code",
   "execution_count": 18,
   "metadata": {},
   "outputs": [
    {
     "name": "stdout",
     "output_type": "stream",
     "text": [
      "[1] \"13.7 percent of city-owned bridges in Baltimore were listed in 'poor' condition.\"\n"
     ]
    }
   ],
   "source": [
    "print(paste(round(baltcity.conditions.2017[baltcity.conditions.2017$bridge_condition == 'Poor',]$perc, 1), \n",
    "            \"percent of city-owned bridges in Baltimore were listed in 'poor' condition.\"))"
   ]
  },
  {
   "cell_type": "markdown",
   "metadata": {},
   "source": [
    "### Finding: 20 city-owned bridges in Baltimore have been in \"poor\" condition for 10 years or more. "
   ]
  },
  {
   "cell_type": "markdown",
   "metadata": {},
   "source": [
    "Read in the 2007 data for comparison to 2017."
   ]
  },
  {
   "cell_type": "code",
   "execution_count": 19,
   "metadata": {},
   "outputs": [],
   "source": [
    "data.2007.clean <- read_feather('output/data_2007_clean.feather')"
   ]
  },
  {
   "cell_type": "markdown",
   "metadata": {},
   "source": [
    "Create a dataframe, `baltcity.poor.2007`, with all of the city-owned bridges that were in \"poor\" condition in 2007 and another dataframe, `baltcity.poor.2017`, with all of the city-owned bridges that were in \"poor\" condition in 2017.\n",
    "\n",
    "Note that the Wicomico Street bridge (`STRUCTURE_NUMBER_008 = '200000BC8032010'`) was dismantled last year, nearly a decade after railroad conglomerate CSX had [promised](http://articles.baltimoresun.com/2007-10-12/news/0710120088_1_avenue-bridge-replace-bridge-csx) to tear it down. We include it in the story because it was still listed in the FHA's 2017 dataset and had spent at least a decade in disrepair before being dismantled. For more details on the current status of some bridges, see the map of peristently \"poor\" bridges in the [story](http://www.baltimoresun.com/news/maryland/bs-md-bridge-collapse-maryland-20180815-story.html)."
   ]
  },
  {
   "cell_type": "code",
   "execution_count": 24,
   "metadata": {},
   "outputs": [],
   "source": [
    "baltcity.poor.2007 <- data.2007.clean %>% filter(county == 'Baltimore city' & \n",
    "                                                 owner == 'city or municipal highway agency' & \n",
    "                                                 bridge_condition == 'Poor') \n",
    "\n",
    "baltcity.poor.2017 <- data.2017.clean %>% filter(county == 'Baltimore city' & \n",
    "                                                 owner == 'city or municipal highway agency' & \n",
    "                                                 bridge_condition == 'Poor') "
   ]
  },
  {
   "cell_type": "markdown",
   "metadata": {},
   "source": [
    "Merge the two dataframes and save into another dataframe called `baltcity.poor`, which will provide the number of bridges that were listed in \"poor\" condition in 2007 and were still in \"poor\" condition in 2017."
   ]
  },
  {
   "cell_type": "code",
   "execution_count": 25,
   "metadata": {},
   "outputs": [],
   "source": [
    "baltcity.poor <- merge(baltcity.poor.2007, baltcity.poor.2017, \n",
    "                      by = 'STRUCTURE_NUMBER_008', suffixes = c('_07', '_17'))"
   ]
  },
  {
   "cell_type": "code",
   "execution_count": 26,
   "metadata": {},
   "outputs": [
    {
     "data": {
      "text/html": [
       "20"
      ],
      "text/latex": [
       "20"
      ],
      "text/markdown": [
       "20"
      ],
      "text/plain": [
       "[1] 20"
      ]
     },
     "metadata": {},
     "output_type": "display_data"
    }
   ],
   "source": [
    "length(baltcity.poor$STRUCTURE_NUMBER_008)"
   ]
  },
  {
   "cell_type": "code",
   "execution_count": 27,
   "metadata": {},
   "outputs": [
    {
     "name": "stdout",
     "output_type": "stream",
     "text": [
      "[1] \"20 city-owned bridges in Baltimore have been in 'poor' condition for 10 years or more.\"\n"
     ]
    }
   ],
   "source": [
    "print(paste(length(baltcity.poor$STRUCTURE_NUMBER_008), \n",
    "           \"city-owned bridges in Baltimore have been in 'poor' condition for 10 years or more.\"))"
   ]
  },
  {
   "cell_type": "markdown",
   "metadata": {},
   "source": [
    "### Finding: There were 36 bridges listed in “poor” condition in Baltimore County."
   ]
  },
  {
   "cell_type": "markdown",
   "metadata": {},
   "source": [
    "Filter the data to Baltimore County bridges to get the number of bridges that were listed in \"poor\" condition."
   ]
  },
  {
   "cell_type": "code",
   "execution_count": 28,
   "metadata": {},
   "outputs": [],
   "source": [
    "baltco.conditions.2017 <- data.2017.clean %>% filter(county == 'Baltimore County') %>% \n",
    "                                            group_by(bridge_condition) %>%\n",
    "                                            summarise(n = n()) %>%\n",
    "                                            mutate(perc = n/sum(n) * 100)"
   ]
  },
  {
   "cell_type": "code",
   "execution_count": 29,
   "metadata": {},
   "outputs": [],
   "source": [
    "baltco.conditions.2017 <- data.2017.clean %>% filter(county == 'Baltimore County') %>% \n",
    "                                            group_by(bridge_condition) %>%\n",
    "                                            summarise(n = n()) %>%\n",
    "                                            mutate(perc = n/sum(n) * 100)"
   ]
  },
  {
   "cell_type": "code",
   "execution_count": 30,
   "metadata": {},
   "outputs": [
    {
     "data": {
      "text/html": [
       "<table>\n",
       "<thead><tr><th scope=col>bridge_condition</th><th scope=col>n</th><th scope=col>perc</th></tr></thead>\n",
       "<tbody>\n",
       "\t<tr><td>Fair     </td><td>527      </td><td>67.737789</td></tr>\n",
       "\t<tr><td>Good     </td><td>215      </td><td>27.634961</td></tr>\n",
       "\t<tr><td>Poor     </td><td> 36      </td><td> 4.627249</td></tr>\n",
       "</tbody>\n",
       "</table>\n"
      ],
      "text/latex": [
       "\\begin{tabular}{r|lll}\n",
       " bridge\\_condition & n & perc\\\\\n",
       "\\hline\n",
       "\t Fair      & 527       & 67.737789\\\\\n",
       "\t Good      & 215       & 27.634961\\\\\n",
       "\t Poor      &  36       &  4.627249\\\\\n",
       "\\end{tabular}\n"
      ],
      "text/markdown": [
       "\n",
       "bridge_condition | n | perc | \n",
       "|---|---|---|\n",
       "| Fair      | 527       | 67.737789 | \n",
       "| Good      | 215       | 27.634961 | \n",
       "| Poor      |  36       |  4.627249 | \n",
       "\n",
       "\n"
      ],
      "text/plain": [
       "  bridge_condition n   perc     \n",
       "1 Fair             527 67.737789\n",
       "2 Good             215 27.634961\n",
       "3 Poor              36  4.627249"
      ]
     },
     "metadata": {},
     "output_type": "display_data"
    }
   ],
   "source": [
    "baltco.conditions.2017"
   ]
  },
  {
   "cell_type": "code",
   "execution_count": 32,
   "metadata": {},
   "outputs": [
    {
     "name": "stdout",
     "output_type": "stream",
     "text": [
      "[1] \"There were 36 bridges in 'poor' condition in Baltimore County.\"\n"
     ]
    }
   ],
   "source": [
    "print(paste(\"There were\", baltco.conditions.2017[baltco.conditions.2017$bridge_condition == 'Poor',]$n,\n",
    "            \"bridges in 'poor' condition in Baltimore County.\"))"
   ]
  },
  {
   "cell_type": "markdown",
   "metadata": {},
   "source": [
    "### Finding: 11 bridges in Baltimore County have been in “poor” condition for 10 years or more."
   ]
  },
  {
   "cell_type": "markdown",
   "metadata": {},
   "source": [
    "Create a dataframe, `baltco.poor.2007`, with all of the bridges in Baltimore County that were in \"poor\" condition in 2007 and another dataframe, `baltco.poor.2017`, with all of the bridges in Baltimore County that were in \"poor\" condition in 2017."
   ]
  },
  {
   "cell_type": "code",
   "execution_count": 33,
   "metadata": {},
   "outputs": [],
   "source": [
    "baltco.poor.2007 <- data.2007.clean %>% filter(county == 'Baltimore County' & \n",
    "                                                 bridge_condition == 'Poor')\n",
    "\n",
    "baltco.poor.2017 <- data.2017.clean %>% filter(county == 'Baltimore County' & \n",
    "                                                 bridge_condition == 'Poor')"
   ]
  },
  {
   "cell_type": "markdown",
   "metadata": {},
   "source": [
    "Merge the two dataframes and save into another dataframe called `baltco.poor`, which will provide the number of bridges that were list in \"poor\" condition in 2007 and were still in \"poor\" condition in 2017."
   ]
  },
  {
   "cell_type": "code",
   "execution_count": 34,
   "metadata": {},
   "outputs": [],
   "source": [
    "baltco.poor <- merge(baltco.poor.2007, baltco.poor.2017, \n",
    "                      by = 'STRUCTURE_NUMBER_008', suffixes = c('_07', '_17'))"
   ]
  },
  {
   "cell_type": "code",
   "execution_count": 35,
   "metadata": {},
   "outputs": [
    {
     "data": {
      "text/html": [
       "11"
      ],
      "text/latex": [
       "11"
      ],
      "text/markdown": [
       "11"
      ],
      "text/plain": [
       "[1] 11"
      ]
     },
     "metadata": {},
     "output_type": "display_data"
    }
   ],
   "source": [
    "length(baltco.poor$STRUCTURE_NUMBER_008)"
   ]
  },
  {
   "cell_type": "code",
   "execution_count": 36,
   "metadata": {},
   "outputs": [
    {
     "name": "stdout",
     "output_type": "stream",
     "text": [
      "[1] \"11 bridges in Baltimore County have been in 'poor' condition for 10 years or more.\"\n"
     ]
    }
   ],
   "source": [
    "print(paste(length(baltco.poor$STRUCTURE_NUMBER_008), \n",
    "           \"bridges in Baltimore County have been in 'poor' condition for 10 years or more.\"))"
   ]
  },
  {
   "cell_type": "markdown",
   "metadata": {},
   "source": [
    "### Finding: 21 bridges in Harford County were listed in “poor” condition."
   ]
  },
  {
   "cell_type": "markdown",
   "metadata": {},
   "source": [
    "Filter the data to Harford County bridges to get the number of bridges that are in \"poor\" condition."
   ]
  },
  {
   "cell_type": "code",
   "execution_count": 37,
   "metadata": {
    "scrolled": false
   },
   "outputs": [],
   "source": [
    "harfordco.poor.2017 <- data.2017.clean %>% filter(county == 'Harford County' & \n",
    "                                                 bridge_condition == 'Poor') "
   ]
  },
  {
   "cell_type": "code",
   "execution_count": 38,
   "metadata": {},
   "outputs": [
    {
     "name": "stdout",
     "output_type": "stream",
     "text": [
      "[1] \"There were 21 bridges in Harford County listed in 'poor' condition.\"\n"
     ]
    }
   ],
   "source": [
    "print(paste(\"There were\", length(harfordco.poor.2017$STRUCTURE_NUMBER_008), \n",
    "      \"bridges in Harford County listed in 'poor' condition.\"))"
   ]
  },
  {
   "cell_type": "markdown",
   "metadata": {},
   "source": [
    "### 11 bridges in Harford County have been in “poor” condition for 10 years or more."
   ]
  },
  {
   "cell_type": "markdown",
   "metadata": {},
   "source": [
    "Create a dataframe, `harfordco.poor.2007`, with all of the bridges in Harford County that were in \"poor\" condition in 2007."
   ]
  },
  {
   "cell_type": "code",
   "execution_count": 39,
   "metadata": {},
   "outputs": [],
   "source": [
    "harfordco.poor.2007 <- data.2007.clean %>% filter(county == 'Harford County' & \n",
    "                                                 bridge_condition == 'Poor') "
   ]
  },
  {
   "cell_type": "markdown",
   "metadata": {},
   "source": [
    "Merge this dataframe with `harfordco.poor.2017` and save into another dataframe called `harfordco.poor`, which will provide the number of bridges that were list in \"poor\" condition in 2007 and were still in \"poor\" condition in 2017."
   ]
  },
  {
   "cell_type": "code",
   "execution_count": 40,
   "metadata": {},
   "outputs": [],
   "source": [
    "harfordco.poor <- merge(harfordco.poor.2007, harfordco.poor.2017, \n",
    "                      by = 'STRUCTURE_NUMBER_008', suffixes = c('_07', '_17'))"
   ]
  },
  {
   "cell_type": "code",
   "execution_count": 41,
   "metadata": {},
   "outputs": [
    {
     "name": "stdout",
     "output_type": "stream",
     "text": [
      "[1] \"11 bridges in Harford County have been in poor condition for 10 years or more.\"\n"
     ]
    }
   ],
   "source": [
    "print(paste(length(harfordco.poor$STRUCTURE_NUMBER_008), \n",
    "           \"bridges in Harford County have been in poor condition for 10 years or more.\"))"
   ]
  },
  {
   "cell_type": "markdown",
   "metadata": {},
   "source": [
    "### Finding: The State Highway Administration maintains roughly half of Maryland’s more than 5,000 bridges."
   ]
  },
  {
   "cell_type": "markdown",
   "metadata": {},
   "source": [
    "Filter the data to bridges owned or maintained by the State Highway Administration (either `owner` or `responsibility` listed as \"state highway agency.\""
   ]
  },
  {
   "cell_type": "code",
   "execution_count": 42,
   "metadata": {},
   "outputs": [],
   "source": [
    "sha.owned <- data.2017.clean %>% filter(owner == 'state highway agency' |\n",
    "                                        responsibility == 'state highway agency')"
   ]
  },
  {
   "cell_type": "code",
   "execution_count": 43,
   "metadata": {},
   "outputs": [
    {
     "data": {
      "text/html": [
       "48"
      ],
      "text/latex": [
       "48"
      ],
      "text/markdown": [
       "48"
      ],
      "text/plain": [
       "[1] 48"
      ]
     },
     "metadata": {},
     "output_type": "display_data"
    }
   ],
   "source": [
    "round(length(sha.owned$STRUCTURE_NUMBER_008)/length(data.2017.clean$STRUCTURE_NUMBER_008) * 100)"
   ]
  },
  {
   "cell_type": "code",
   "execution_count": 44,
   "metadata": {},
   "outputs": [
    {
     "name": "stdout",
     "output_type": "stream",
     "text": [
      "[1] \"The State Highway Administration maintains 48 percent (or roughly half) of Maryland's 5335 bridges.\"\n"
     ]
    }
   ],
   "source": [
    "print(paste(\"The State Highway Administration maintains\",\n",
    "      round(length(sha.owned$STRUCTURE_NUMBER_008)/length(data.2017.clean$STRUCTURE_NUMBER_008) * 100),\n",
    "      \"percent (or roughly half) of Maryland's\", length(data.2017.clean$STRUCTURE_NUMBER_008), \"bridges.\"))"
   ]
  },
  {
   "cell_type": "markdown",
   "metadata": {},
   "source": [
    "### Finding: The other half of the state’s bridges are owned by up to 15 different types of agencies, including county highway agencies, city or municipal highway agencies, state toll authorities, private owners and others."
   ]
  },
  {
   "cell_type": "markdown",
   "metadata": {},
   "source": [
    "Filter the data to owners or maintainers that are not the State Highway Administration and table the owners."
   ]
  },
  {
   "cell_type": "code",
   "execution_count": 45,
   "metadata": {},
   "outputs": [
    {
     "data": {
      "text/html": [
       "<table>\n",
       "<thead><tr><th scope=col>owner</th><th scope=col>row_number</th></tr></thead>\n",
       "<tbody>\n",
       "\t<tr><td>city or municipal highway agency         </td><td> 1                                       </td></tr>\n",
       "\t<tr><td>private (other than railroad)            </td><td> 2                                       </td></tr>\n",
       "\t<tr><td>county highway agency                    </td><td> 3                                       </td></tr>\n",
       "\t<tr><td>National Park Service                    </td><td> 4                                       </td></tr>\n",
       "\t<tr><td>state toll authority                     </td><td> 5                                       </td></tr>\n",
       "\t<tr><td>other state agencies                     </td><td> 6                                       </td></tr>\n",
       "\t<tr><td>Navy/Marines                             </td><td> 7                                       </td></tr>\n",
       "\t<tr><td>Bureau of Fish and Wildlife              </td><td> 8                                       </td></tr>\n",
       "\t<tr><td>Army                                     </td><td> 9                                       </td></tr>\n",
       "\t<tr><td>other local agencies                     </td><td>10                                       </td></tr>\n",
       "\t<tr><td>town or township highway agency          </td><td>11                                       </td></tr>\n",
       "\t<tr><td>Corps of Engineers (Civil)               </td><td>12                                       </td></tr>\n",
       "\t<tr><td>local park, forest, or reservation agency</td><td>13                                       </td></tr>\n",
       "\t<tr><td>NASA                                     </td><td>14                                       </td></tr>\n",
       "\t<tr><td>Air Force                                </td><td>15                                       </td></tr>\n",
       "</tbody>\n",
       "</table>\n"
      ],
      "text/latex": [
       "\\begin{tabular}{r|ll}\n",
       " owner & row\\_number\\\\\n",
       "\\hline\n",
       "\t city or municipal highway agency          &  1                                       \\\\\n",
       "\t private (other than railroad)             &  2                                       \\\\\n",
       "\t county highway agency                     &  3                                       \\\\\n",
       "\t National Park Service                     &  4                                       \\\\\n",
       "\t state toll authority                      &  5                                       \\\\\n",
       "\t other state agencies                      &  6                                       \\\\\n",
       "\t Navy/Marines                              &  7                                       \\\\\n",
       "\t Bureau of Fish and Wildlife               &  8                                       \\\\\n",
       "\t Army                                      &  9                                       \\\\\n",
       "\t other local agencies                      & 10                                       \\\\\n",
       "\t town or township highway agency           & 11                                       \\\\\n",
       "\t Corps of Engineers (Civil)                & 12                                       \\\\\n",
       "\t local park, forest, or reservation agency & 13                                       \\\\\n",
       "\t NASA                                      & 14                                       \\\\\n",
       "\t Air Force                                 & 15                                       \\\\\n",
       "\\end{tabular}\n"
      ],
      "text/markdown": [
       "\n",
       "owner | row_number | \n",
       "|---|---|---|---|---|---|---|---|---|---|---|---|---|---|---|\n",
       "| city or municipal highway agency          |  1                                        | \n",
       "| private (other than railroad)             |  2                                        | \n",
       "| county highway agency                     |  3                                        | \n",
       "| National Park Service                     |  4                                        | \n",
       "| state toll authority                      |  5                                        | \n",
       "| other state agencies                      |  6                                        | \n",
       "| Navy/Marines                              |  7                                        | \n",
       "| Bureau of Fish and Wildlife               |  8                                        | \n",
       "| Army                                      |  9                                        | \n",
       "| other local agencies                      | 10                                        | \n",
       "| town or township highway agency           | 11                                        | \n",
       "| Corps of Engineers (Civil)                | 12                                        | \n",
       "| local park, forest, or reservation agency | 13                                        | \n",
       "| NASA                                      | 14                                        | \n",
       "| Air Force                                 | 15                                        | \n",
       "\n",
       "\n"
      ],
      "text/plain": [
       "   owner                                     row_number\n",
       "1  city or municipal highway agency           1        \n",
       "2  private (other than railroad)              2        \n",
       "3  county highway agency                      3        \n",
       "4  National Park Service                      4        \n",
       "5  state toll authority                       5        \n",
       "6  other state agencies                       6        \n",
       "7  Navy/Marines                               7        \n",
       "8  Bureau of Fish and Wildlife                8        \n",
       "9  Army                                       9        \n",
       "10 other local agencies                      10        \n",
       "11 town or township highway agency           11        \n",
       "12 Corps of Engineers (Civil)                12        \n",
       "13 local park, forest, or reservation agency 13        \n",
       "14 NASA                                      14        \n",
       "15 Air Force                                 15        "
      ]
     },
     "metadata": {},
     "output_type": "display_data"
    }
   ],
   "source": [
    "nonstate.owners <- data.2017.clean %>% filter(owner != 'state highway agency' & \n",
    "                           responsibility != 'state highway agency') %>% select(owner) %>% unique() %>% \n",
    "                    as.data.frame() %>% mutate(row_number = row_number())\n",
    "\n",
    "nonstate.owners"
   ]
  },
  {
   "cell_type": "code",
   "execution_count": 46,
   "metadata": {},
   "outputs": [
    {
     "name": "stdout",
     "output_type": "stream",
     "text": [
      "[1] \"Other than the State Highway Administration, 15 different agencies own Maryland's bridges.\"\n"
     ]
    }
   ],
   "source": [
    "print(paste(\"Other than the State Highway Administration,\", max(nonstate.owners$row_number), \n",
    "            \"different agencies own Maryland's bridges.\"))"
   ]
  },
  {
   "cell_type": "markdown",
   "metadata": {},
   "source": [
    "Below is the distribution of bridge ownership."
   ]
  },
  {
   "cell_type": "code",
   "execution_count": 47,
   "metadata": {},
   "outputs": [
    {
     "data": {
      "text/html": [
       "<table>\n",
       "<thead><tr><th scope=col>owner</th><th scope=col>n</th><th scope=col>perc</th></tr></thead>\n",
       "<tbody>\n",
       "\t<tr><td>state highway agency                     </td><td>2545                                     </td><td>47.70384255                              </td></tr>\n",
       "\t<tr><td>county highway agency                    </td><td>1937                                     </td><td>36.30740394                              </td></tr>\n",
       "\t<tr><td>city or municipal highway agency         </td><td> 366                                     </td><td> 6.86035614                              </td></tr>\n",
       "\t<tr><td>state toll authority                     </td><td> 322                                     </td><td> 6.03561387                              </td></tr>\n",
       "\t<tr><td>National Park Service                    </td><td>  54                                     </td><td> 1.01218369                              </td></tr>\n",
       "\t<tr><td>other state agencies                     </td><td>  32                                     </td><td> 0.59981256                              </td></tr>\n",
       "\t<tr><td>town or township highway agency          </td><td>  18                                     </td><td> 0.33739456                              </td></tr>\n",
       "\t<tr><td>local park, forest, or reservation agency</td><td>  16                                     </td><td> 0.29990628                              </td></tr>\n",
       "\t<tr><td>Army                                     </td><td>  11                                     </td><td> 0.20618557                              </td></tr>\n",
       "\t<tr><td>Navy/Marines                             </td><td>  10                                     </td><td> 0.18744142                              </td></tr>\n",
       "\t<tr><td>private (other than railroad)            </td><td>   7                                     </td><td> 0.13120900                              </td></tr>\n",
       "\t<tr><td>NA                                       </td><td>   7                                     </td><td> 0.13120900                              </td></tr>\n",
       "\t<tr><td>Bureau of Fish and Wildlife              </td><td>   5                                     </td><td> 0.09372071                              </td></tr>\n",
       "\t<tr><td>Corps of Engineers (Civil)               </td><td>   2                                     </td><td> 0.03748828                              </td></tr>\n",
       "\t<tr><td>Air Force                                </td><td>   1                                     </td><td> 0.01874414                              </td></tr>\n",
       "\t<tr><td>NASA                                     </td><td>   1                                     </td><td> 0.01874414                              </td></tr>\n",
       "\t<tr><td>other local agencies                     </td><td>   1                                     </td><td> 0.01874414                              </td></tr>\n",
       "</tbody>\n",
       "</table>\n"
      ],
      "text/latex": [
       "\\begin{tabular}{r|lll}\n",
       " owner & n & perc\\\\\n",
       "\\hline\n",
       "\t state highway agency                      & 2545                                      & 47.70384255                              \\\\\n",
       "\t county highway agency                     & 1937                                      & 36.30740394                              \\\\\n",
       "\t city or municipal highway agency          &  366                                      &  6.86035614                              \\\\\n",
       "\t state toll authority                      &  322                                      &  6.03561387                              \\\\\n",
       "\t National Park Service                     &   54                                      &  1.01218369                              \\\\\n",
       "\t other state agencies                      &   32                                      &  0.59981256                              \\\\\n",
       "\t town or township highway agency           &   18                                      &  0.33739456                              \\\\\n",
       "\t local park, forest, or reservation agency &   16                                      &  0.29990628                              \\\\\n",
       "\t Army                                      &   11                                      &  0.20618557                              \\\\\n",
       "\t Navy/Marines                              &   10                                      &  0.18744142                              \\\\\n",
       "\t private (other than railroad)             &    7                                      &  0.13120900                              \\\\\n",
       "\t NA                                        &    7                                      &  0.13120900                              \\\\\n",
       "\t Bureau of Fish and Wildlife               &    5                                      &  0.09372071                              \\\\\n",
       "\t Corps of Engineers (Civil)                &    2                                      &  0.03748828                              \\\\\n",
       "\t Air Force                                 &    1                                      &  0.01874414                              \\\\\n",
       "\t NASA                                      &    1                                      &  0.01874414                              \\\\\n",
       "\t other local agencies                      &    1                                      &  0.01874414                              \\\\\n",
       "\\end{tabular}\n"
      ],
      "text/markdown": [
       "\n",
       "owner | n | perc | \n",
       "|---|---|---|---|---|---|---|---|---|---|---|---|---|---|---|---|---|\n",
       "| state highway agency                      | 2545                                      | 47.70384255                               | \n",
       "| county highway agency                     | 1937                                      | 36.30740394                               | \n",
       "| city or municipal highway agency          |  366                                      |  6.86035614                               | \n",
       "| state toll authority                      |  322                                      |  6.03561387                               | \n",
       "| National Park Service                     |   54                                      |  1.01218369                               | \n",
       "| other state agencies                      |   32                                      |  0.59981256                               | \n",
       "| town or township highway agency           |   18                                      |  0.33739456                               | \n",
       "| local park, forest, or reservation agency |   16                                      |  0.29990628                               | \n",
       "| Army                                      |   11                                      |  0.20618557                               | \n",
       "| Navy/Marines                              |   10                                      |  0.18744142                               | \n",
       "| private (other than railroad)             |    7                                      |  0.13120900                               | \n",
       "| NA                                        |    7                                      |  0.13120900                               | \n",
       "| Bureau of Fish and Wildlife               |    5                                      |  0.09372071                               | \n",
       "| Corps of Engineers (Civil)                |    2                                      |  0.03748828                               | \n",
       "| Air Force                                 |    1                                      |  0.01874414                               | \n",
       "| NASA                                      |    1                                      |  0.01874414                               | \n",
       "| other local agencies                      |    1                                      |  0.01874414                               | \n",
       "\n",
       "\n"
      ],
      "text/plain": [
       "   owner                                     n    perc       \n",
       "1  state highway agency                      2545 47.70384255\n",
       "2  county highway agency                     1937 36.30740394\n",
       "3  city or municipal highway agency           366  6.86035614\n",
       "4  state toll authority                       322  6.03561387\n",
       "5  National Park Service                       54  1.01218369\n",
       "6  other state agencies                        32  0.59981256\n",
       "7  town or township highway agency             18  0.33739456\n",
       "8  local park, forest, or reservation agency   16  0.29990628\n",
       "9  Army                                        11  0.20618557\n",
       "10 Navy/Marines                                10  0.18744142\n",
       "11 private (other than railroad)                7  0.13120900\n",
       "12 NA                                           7  0.13120900\n",
       "13 Bureau of Fish and Wildlife                  5  0.09372071\n",
       "14 Corps of Engineers (Civil)                   2  0.03748828\n",
       "15 Air Force                                    1  0.01874414\n",
       "16 NASA                                         1  0.01874414\n",
       "17 other local agencies                         1  0.01874414"
      ]
     },
     "metadata": {},
     "output_type": "display_data"
    }
   ],
   "source": [
    "data.2017.clean %>% group_by(owner) %>% \n",
    "                    summarise(n = n()) %>% \n",
    "                    mutate(perc = n/sum(n) * 100) %>% arrange(desc(perc))"
   ]
  },
  {
   "cell_type": "markdown",
   "metadata": {},
   "source": [
    "### Finding: There is a bridge owned by NASA — a federal access road in Prince George’s County."
   ]
  },
  {
   "cell_type": "markdown",
   "metadata": {},
   "source": [
    "Filter the data to the bridge listed as owned by NASA."
   ]
  },
  {
   "cell_type": "code",
   "execution_count": 48,
   "metadata": {},
   "outputs": [
    {
     "data": {
      "text/html": [
       "<table>\n",
       "<thead><tr><th scope=col>STRUCTURE_NUMBER_008</th><th scope=col>county</th><th scope=col>combinedfips</th><th scope=col>location</th><th scope=col>intersects</th><th scope=col>carries</th><th scope=col>route_type</th><th scope=col>service_level</th><th scope=col>responsibility</th><th scope=col>owner</th><th scope=col>⋯</th><th scope=col>avg_daily_traffic_future_yr</th><th scope=col>scour_critical</th><th scope=col>national_register</th><th scope=col>LAT_016</th><th scope=col>LONG_017</th><th scope=col>SCOUR_CRITICAL_113</th><th scope=col>COUNTY_CODE_003</th><th scope=col>structural_eval</th><th scope=col>waterway_eval</th><th scope=col>age</th></tr></thead>\n",
       "<tbody>\n",
       "\t<tr><td>2170001P0000000                                                    </td><td>Prince George's County                                             </td><td>24033                                                              </td><td>ROUTE 295 NORTH 3RD EXIT                                           </td><td>BALTIMORE-WASHINGTON PKW                                           </td><td>NASA ACCESS ROAD                                                   </td><td>Federal lands road                                                 </td><td>business                                                           </td><td>NASA                                                               </td><td>NASA                                                               </td><td>⋯                                                                  </td><td>2030                                                               </td><td>not applicable                                                     </td><td>Bridge is not eligible for the National Register of Historic Places</td><td>39002050                                                           </td><td>076514500                                                          </td><td>N                                                                  </td><td>033                                                                </td><td>5                                                                  </td><td>NA                                                                 </td><td>52                                                                 </td></tr>\n",
       "</tbody>\n",
       "</table>\n"
      ],
      "text/latex": [
       "\\begin{tabular}{r|llllllllllllllllllllllllllllllllllllllllllllllllll}\n",
       " STRUCTURE\\_NUMBER\\_008 & county & combinedfips & location & intersects & carries & route\\_type & service\\_level & responsibility & owner & ⋯ & avg\\_daily\\_traffic\\_future\\_yr & scour\\_critical & national\\_register & LAT\\_016 & LONG\\_017 & SCOUR\\_CRITICAL\\_113 & COUNTY\\_CODE\\_003 & structural\\_eval & waterway\\_eval & age\\\\\n",
       "\\hline\n",
       "\t 2170001P0000000                                                     & Prince George's County                                              & 24033                                                               & ROUTE 295 NORTH 3RD EXIT                                            & BALTIMORE-WASHINGTON PKW                                            & NASA ACCESS ROAD                                                    & Federal lands road                                                  & business                                                            & NASA                                                                & NASA                                                                & ⋯                                                                   & 2030                                                                & not applicable                                                      & Bridge is not eligible for the National Register of Historic Places & 39002050                                                            & 076514500                                                           & N                                                                   & 033                                                                 & 5                                                                   & NA                                                                  & 52                                                                 \\\\\n",
       "\\end{tabular}\n"
      ],
      "text/markdown": [
       "\n",
       "STRUCTURE_NUMBER_008 | county | combinedfips | location | intersects | carries | route_type | service_level | responsibility | owner | ⋯ | avg_daily_traffic_future_yr | scour_critical | national_register | LAT_016 | LONG_017 | SCOUR_CRITICAL_113 | COUNTY_CODE_003 | structural_eval | waterway_eval | age | \n",
       "|---|\n",
       "| 2170001P0000000                                                     | Prince George's County                                              | 24033                                                               | ROUTE 295 NORTH 3RD EXIT                                            | BALTIMORE-WASHINGTON PKW                                            | NASA ACCESS ROAD                                                    | Federal lands road                                                  | business                                                            | NASA                                                                | NASA                                                                | ⋯                                                                   | 2030                                                                | not applicable                                                      | Bridge is not eligible for the National Register of Historic Places | 39002050                                                            | 076514500                                                           | N                                                                   | 033                                                                 | 5                                                                   | NA                                                                  | 52                                                                  | \n",
       "\n",
       "\n"
      ],
      "text/plain": [
       "  STRUCTURE_NUMBER_008 county                 combinedfips\n",
       "1 2170001P0000000      Prince George's County 24033       \n",
       "  location                 intersects               carries         \n",
       "1 ROUTE 295 NORTH 3RD EXIT BALTIMORE-WASHINGTON PKW NASA ACCESS ROAD\n",
       "  route_type         service_level responsibility owner ⋯\n",
       "1 Federal lands road business      NASA           NASA  ⋯\n",
       "  avg_daily_traffic_future_yr scour_critical\n",
       "1 2030                        not applicable\n",
       "  national_register                                                   LAT_016 \n",
       "1 Bridge is not eligible for the National Register of Historic Places 39002050\n",
       "  LONG_017  SCOUR_CRITICAL_113 COUNTY_CODE_003 structural_eval waterway_eval\n",
       "1 076514500 N                  033             5               NA           \n",
       "  age\n",
       "1 52 "
      ]
     },
     "metadata": {},
     "output_type": "display_data"
    }
   ],
   "source": [
    "data.2017.clean %>% filter(owner == 'NASA')"
   ]
  },
  {
   "cell_type": "markdown",
   "metadata": {},
   "source": [
    "[Here](https://www.google.com/maps/place/39%C2%B000'20.5%22N+76%C2%B051'45.0%22W/@39.0060068,-76.8637175,172m/data=!3m1!1e3!4m5!3m4!1s0x0:0x0!8m2!3d39.00569!4d-76.8625) is the Google Satellite view of the bridge, which is located close to NASA's Goddard Space Flight Center.\n"
   ]
  },
  {
   "cell_type": "markdown",
   "metadata": {},
   "source": [
    "\n",
    "\n",
    "Note: The maps featured in the online version the story were produced in CartoDB, after converting the `LAT_016` and `LONG_017` fields in the data and determining the validity of the coordinates provided. Not all bridges had valid geographical coordinates that could be mapped. For more information, see the mapping notebook [`03_mapping.ipynb`](https://github.com/baltimore-sun-data/bridge-data/blob/master/03_mapping.ipynb)."
   ]
  }
 ],
 "metadata": {
  "kernelspec": {
   "display_name": "R",
   "language": "R",
   "name": "ir"
  },
  "language_info": {
   "codemirror_mode": "r",
   "file_extension": ".r",
   "mimetype": "text/x-r-source",
   "name": "R",
   "pygments_lexer": "r",
   "version": "3.5.1"
  }
 },
 "nbformat": 4,
 "nbformat_minor": 2
}
